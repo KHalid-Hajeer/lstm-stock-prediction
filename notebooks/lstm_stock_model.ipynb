{
 "cells": [
  {
   "cell_type": "markdown",
   "id": "8d378dbf",
   "metadata": {},
   "source": [
    "# LSTM Stock Prediction Notebook"
   ]
  },
  {
   "cell_type": "markdown",
   "id": "d4e04c0b",
   "metadata": {},
   "source": [
    "## Table of Contents\n",
    "1. [Introduction](#1-introduction)\n",
    "2. [Libraries](#2-libraries)  \n",
    "3. [Data Collection](#3-data-collection)  \n",
    "4. [Data Exploration](#4-data-exploration)  \n",
    "5. [Feature Engineering](#5-feature-engineering)  \n",
    "6. [Model Architecture](#6-model-architecture)  \n",
    "7. [Training & Evaluation](#7-training--evaluation)  \n",
    "8. [Results & Diagnostics](#8-results--diagnostics)  \n",
    "9. [Conclusion](#9-conclusion)"
   ]
  },
  {
   "cell_type": "markdown",
   "id": "fd0b00b9",
   "metadata": {},
   "source": [
    "## 1. Introduction"
   ]
  },
  {
   "cell_type": "markdown",
   "id": "1004edbd",
   "metadata": {},
   "source": [
    "## 2. Libraries"
   ]
  },
  {
   "cell_type": "code",
   "execution_count": 7,
   "id": "b03ba031",
   "metadata": {},
   "outputs": [],
   "source": [
    "# Core Libraries \n",
    "import pandas as pd\n",
    "import numpy as np\n",
    "import os\n",
    "from dotenv import load_dotenv\n",
    "from datetime import datetime\n",
    "\n",
    "# Machine Learning Libraries\n",
    "import tensorflow as tf\n",
    "from tensorflow import keras\n",
    "from sklearn.preprocessing import StandardScaler\n",
    "from sklearn.metrics import mean_squared_error, mean_absolute_error, r2_score\n",
    "\n",
    "# Visualization Libraries\n",
    "import matplotlib.pyplot as plt\n",
    "import seaborn as sns\n",
    "import mplfinance as mpf\n",
    "\n",
    "# Alpaca Libraries\n",
    "from alpaca.data.historical import StockHistoricalDataClient\n",
    "from alpaca.data.requests import StockBarsRequest\n",
    "from alpaca.data.timeframe import TimeFrame"
   ]
  },
  {
   "cell_type": "markdown",
   "id": "90d7bb5d",
   "metadata": {},
   "source": [
    "## 3. Data Collection"
   ]
  },
  {
   "cell_type": "code",
   "execution_count": 10,
   "id": "cbb5187d",
   "metadata": {},
   "outputs": [],
   "source": [
    "# Load environment variables\n",
    "load_dotenv()\n",
    "\n",
    "# Gather data from Alpaca\n",
    "client = StockHistoricalDataClient(os.getenv('ALPACA_API_KEY'), os.getenv('ALPACA_SECRET_KEY'))\n",
    "request_params = StockBarsRequest(\n",
    "    symbol_or_symbols=[\"AAPL\"],\n",
    "    timeframe=TimeFrame.Day,\n",
    "    start=datetime(2016, 7, 1),\n",
    "    end=datetime(2025, 7, 1)\n",
    ")\n",
    "bars = client.get_stock_bars(request_params)\n",
    "\n",
    "# Convert to DataFrane\n",
    "df = bars.df.reset_index()"
   ]
  },
  {
   "cell_type": "markdown",
   "id": "b889b303",
   "metadata": {},
   "source": [
    "## 4. Data Exploration"
   ]
  },
  {
   "cell_type": "code",
   "execution_count": 11,
   "id": "64ff77a4",
   "metadata": {},
   "outputs": [
    {
     "name": "stdout",
     "output_type": "stream",
     "text": [
      "Head of DataFrame:\n",
      "  symbol                 timestamp   open    high    low  close      volume  \\\n",
      "0   AAPL 2016-07-01 04:00:00+00:00  95.49  96.465  95.33  95.89  27180926.0   \n",
      "1   AAPL 2016-07-05 04:00:00+00:00  95.39  95.400  94.46  95.04  30590138.0   \n",
      "2   AAPL 2016-07-06 04:00:00+00:00  94.60  95.660  94.37  95.53  32320508.0   \n",
      "3   AAPL 2016-07-07 04:00:00+00:00  95.70  96.500  95.62  95.94  26759405.0   \n",
      "4   AAPL 2016-07-08 04:00:00+00:00  96.49  96.890  96.05  96.68  30976552.0   \n",
      "\n",
      "   trade_count       vwap  \n",
      "0     154544.0  95.995066  \n",
      "1     153278.0  94.848509  \n",
      "2     187589.0  95.158127  \n",
      "3     143923.0  96.051727  \n",
      "4     168615.0  96.635640  \n"
     ]
    }
   ],
   "source": [
    "print(\"Head of DataFrame:\")\n",
    "print(df.head())"
   ]
  },
  {
   "cell_type": "code",
   "execution_count": 12,
   "id": "87b6f56f",
   "metadata": {},
   "outputs": [
    {
     "name": "stdout",
     "output_type": "stream",
     "text": [
      "\n",
      " DataFrame Info:\n",
      "<class 'pandas.core.frame.DataFrame'>\n",
      "RangeIndex: 2261 entries, 0 to 2260\n",
      "Data columns (total 9 columns):\n",
      " #   Column       Non-Null Count  Dtype              \n",
      "---  ------       --------------  -----              \n",
      " 0   symbol       2261 non-null   object             \n",
      " 1   timestamp    2261 non-null   datetime64[ns, UTC]\n",
      " 2   open         2261 non-null   float64            \n",
      " 3   high         2261 non-null   float64            \n",
      " 4   low          2261 non-null   float64            \n",
      " 5   close        2261 non-null   float64            \n",
      " 6   volume       2261 non-null   float64            \n",
      " 7   trade_count  2261 non-null   float64            \n",
      " 8   vwap         2261 non-null   float64            \n",
      "dtypes: datetime64[ns, UTC](1), float64(7), object(1)\n",
      "memory usage: 159.1+ KB\n",
      "None\n"
     ]
    }
   ],
   "source": [
    "print(\"\\n DataFrame Info:\")\n",
    "print(df.info())"
   ]
  },
  {
   "cell_type": "code",
   "execution_count": 13,
   "id": "e1f00195",
   "metadata": {},
   "outputs": [
    {
     "name": "stdout",
     "output_type": "stream",
     "text": [
      "\n",
      " DataFrame Descriptive Statistics:\n",
      "              open         high          low        close        volume  \\\n",
      "count  2261.000000  2261.000000  2261.000000  2261.000000  2.261000e+03   \n",
      "mean    182.703186   184.678842   180.916845   182.912084  5.948293e+07   \n",
      "std      58.044565    58.851109    57.386703    58.246307  3.868233e+07   \n",
      "min      94.600000    95.400000    94.370000    95.040000  2.080515e+06   \n",
      "25%     145.660000   147.230000   144.370000   145.910000  3.100255e+07   \n",
      "50%     172.400000   174.010000   170.970000   172.570000  4.871406e+07   \n",
      "75%     204.430000   207.160000   202.586900   204.610000  7.803178e+07   \n",
      "max     514.790000   515.140000   500.330000   506.090000  3.570209e+08   \n",
      "\n",
      "        trade_count         vwap  \n",
      "count  2.261000e+03  2261.000000  \n",
      "mean   4.735065e+05   182.881165  \n",
      "std    3.062269e+05    58.176753  \n",
      "min    3.000000e+00    94.848509  \n",
      "25%    2.021250e+05   145.814255  \n",
      "50%    4.770020e+05   172.638542  \n",
      "75%    6.347160e+05   204.960355  \n",
      "max    2.962331e+06   505.287645  \n"
     ]
    }
   ],
   "source": [
    "print(\"\\n DataFrame Descriptive Statistics:\")\n",
    "print(df.describe())"
   ]
  }
 ],
 "metadata": {
  "kernelspec": {
   "display_name": "venv",
   "language": "python",
   "name": "python3"
  },
  "language_info": {
   "codemirror_mode": {
    "name": "ipython",
    "version": 3
   },
   "file_extension": ".py",
   "mimetype": "text/x-python",
   "name": "python",
   "nbconvert_exporter": "python",
   "pygments_lexer": "ipython3",
   "version": "3.11.4"
  }
 },
 "nbformat": 4,
 "nbformat_minor": 5
}
