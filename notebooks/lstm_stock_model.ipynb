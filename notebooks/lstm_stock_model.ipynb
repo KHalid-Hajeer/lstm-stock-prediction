{
 "cells": [
  {
   "cell_type": "markdown",
   "id": "8d378dbf",
   "metadata": {},
   "source": [
    "# LSTM Stock Prediction Notebook"
   ]
  },
  {
   "cell_type": "markdown",
   "id": "d4e04c0b",
   "metadata": {},
   "source": [
    "## Table of Contents\n",
    "1. [Introduction](#1-introduction)\n",
    "2. [Libraries](#2-libraries)  \n",
    "3. [Data Collection](#3-data-collection)  \n",
    "4. [Data Exploration](#4-data-exploration)  \n",
    "5. [Feature Engineering](#5-feature-engineering)  \n",
    "6. [Model Architecture](#6-model-architecture)  \n",
    "7. [Training & Evaluation](#7-training--evaluation)  \n",
    "8. [Results & Diagnostics](#8-results--diagnostics)  \n",
    "9. [Conclusion](#9-conclusion)"
   ]
  },
  {
   "cell_type": "markdown",
   "id": "fd0b00b9",
   "metadata": {},
   "source": [
    "## 1. Introduction"
   ]
  },
  {
   "cell_type": "markdown",
   "id": "1004edbd",
   "metadata": {},
   "source": [
    "## 2. Libraries"
   ]
  },
  {
   "cell_type": "code",
   "execution_count": 3,
   "id": "b03ba031",
   "metadata": {},
   "outputs": [],
   "source": [
    "# Core Libraries \n",
    "import pandas as pd\n",
    "import numpy as np\n",
    "import os\n",
    "from datetime import datetime\n",
    "\n",
    "# Machine Learning Libraries\n",
    "import tensorflow as tf\n",
    "from tensorflow import keras\n",
    "from sklearn.preprocessing import StandardScaler\n",
    "from sklearn.metrics import mean_squared_error, mean_absolute_error, r2_score\n",
    "\n",
    "# Visualization Libraries\n",
    "import matplotlib.pyplot as plt\n",
    "import seaborn as sns\n",
    "import mplfinance as mpf\n",
    "\n",
    "# Alpaca Libraries\n",
    "from alpaca.data.historical import StockHistoricalDataClient\n",
    "from alpaca.data.requests import StockBarsRequest\n",
    "from alpaca.data.timeframe import TimeFrame"
   ]
  }
 ],
 "metadata": {
  "kernelspec": {
   "display_name": "venv",
   "language": "python",
   "name": "python3"
  },
  "language_info": {
   "codemirror_mode": {
    "name": "ipython",
    "version": 3
   },
   "file_extension": ".py",
   "mimetype": "text/x-python",
   "name": "python",
   "nbconvert_exporter": "python",
   "pygments_lexer": "ipython3",
   "version": "3.11.4"
  }
 },
 "nbformat": 4,
 "nbformat_minor": 5
}
